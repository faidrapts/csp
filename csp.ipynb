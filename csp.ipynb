{
 "cells": [
  {
   "cell_type": "markdown",
   "metadata": {},
   "source": [
    "# Programming Exercise 2: Constraint Satisfaction Problem"
   ]
  },
  {
   "cell_type": "markdown",
   "metadata": {},
   "source": [
    "**Task description:**\n",
    "\n",
    "The course **Techniques in Artificial Intelligence** plans to invite 8 students to give presentations of 4 different topics to help others better understand the abstract theoretical knowledge. The topics are: CommonRoad (CR), Constraint Satisfaction Problem (CSP), Logic and Hidden Markov Model (HMM). 8 volunteers will participate in this event: Alice, Bill, Carol, Daniel, Edith, Frank, Grace, Harry. Every volunteer can take part in **at most** 1 presentation.\n",
    "Different time budget will be allocated to students according to different topic:\n",
    "\n",
    "• CR: 15min/presenter\\\n",
    "• CSP: 8min/presenter\\\n",
    "• Logic: 12min/presenter\\\n",
    "• HMM: 10min/presenter\n",
    "\n",
    "Note that these are merely 4 topics planned, which don't necessarily have to take place all. Which topic(s) is/are actually going to be presented depend(s) on the given constraints. Now consider the following constraints:\n",
    "\n",
    "1.\tThe topic CR is complex so that it requires at least 3 presenters, if it is to be presented \n",
    "2.\tThe topic CSP requires at most 2 presenters, if it is to be presented\n",
    "3.\tThe topic Logic requires 1-2 presenters, if it is to be presented\n",
    "4.\tThe topic HMM requires 2-3 presenters , if it is to be presented\n",
    "5.\tAlice doesn't present alone. She doesn't want to present with Edith either\n",
    "6.\tAlice and Bill don't want to present the topic CSP\n",
    "7.\tCarol and Daniel are a couple so they want to present together\n",
    "8.\tEdith, Frank and Grace will not present together (neither wants to work with any of the other two)\n",
    "9.\tGrace and Harry love challenges so they want to present the topic CR\n",
    "10.\tCarol and Harry are good friends and want to present together\n",
    "11.\tBill, Daniel and Edith are in a study group so they want to present as a team\n",
    "12.\tAlice is the “Tandem” of  Frank so they want to work on the same topic\n",
    "13.\tBill wants to present the topic Logic\n",
    "14.\tConsidering the limited time of the lecture, the total presentation time shall not exceed 90 min \n",
    "15.\tNo one will present alone\n",
    "16.\tAt least 3 topics should be presented\n",
    "17.\tAll topics should be presented\n",
    "\n",
    "Model the constraint satisfaction problem in Python. For each of the following subsets of constraints, find the solution, if it exists:\n",
    "\n",
    "Problem 2.1: { 1 – 10，13, 16 }\\\n",
    "Problem 2.2: { 1 – 5, 7 – 10, 17 }\\\n",
    "Problem 2.3: { 1 – 5, 9, 11，15, 16 } \\\n",
    "Problem 2.4: { 1 – 4, 6 – 10, 12, 16 }\\\n",
    "Problem 2.5: { 1 – 4, 9, 14 – 17 }\n",
    "\n",
    "Note that problem 2.5 may not be satisfied."
   ]
  },
  {
   "cell_type": "markdown",
   "metadata": {},
   "source": [
    "## Initialization"
   ]
  },
  {
   "cell_type": "code",
   "execution_count": 1,
   "metadata": {
    "scrolled": true
   },
   "outputs": [],
   "source": [
    "# Do not change this part.\n",
    "import sys, os\n",
    "import pathlib\n",
    "sys.path.append(pathlib.Path().absolute())\n",
    "from csp_programming_exercise import *"
   ]
  },
  {
   "cell_type": "markdown",
   "metadata": {},
   "source": [
    "### Constructing the Domain"
   ]
  },
  {
   "cell_type": "code",
   "execution_count": 2,
   "metadata": {},
   "outputs": [],
   "source": [
    "# Define your domain here\n",
    "topics = [\"None\",\"CR\", \"CSP\", \"Logic\", \"HMM\"]\n",
    "\n",
    "domains_SP = {\n",
    "    'A': set(topics),\n",
    "    'B': set(topics),\n",
    "    'C': set(topics),\n",
    "    'D': set(topics),\n",
    "    'E': set(topics),\n",
    "    'F': set(topics),\n",
    "    'G': set(topics),\n",
    "    'H': set(topics)\n",
    "}\n",
    "\n",
    "\n",
    "def number_of_presenters(a,b,c,d,e,f,g,h,y):\n",
    "    sum=0\n",
    "    for i in [a,b,c,d,e,f,g,h]:\n",
    "        if i==y:\n",
    "            sum += 1\n",
    "    return sum"
   ]
  },
  {
   "cell_type": "markdown",
   "metadata": {},
   "source": [
    "### Constructing the Constraints: Student Presentation in the Course AI"
   ]
  },
  {
   "cell_type": "code",
   "execution_count": 3,
   "metadata": {
    "scrolled": true
   },
   "outputs": [],
   "source": [
    "# Define you constraints here\n",
    "constraint1_SP = Constraint(('A','B','C','D','E','F','G','H'), lambda a,b,c,d,e,f,g,h: \n",
    "                           number_of_presenters(a,b,c,d,e,f,g,h,'CR')==0 \n",
    "                            or number_of_presenters(a,b,c,d,e,f,g,h,'CR')>=3)\n",
    "constraint2_SP = Constraint(('A','B','C','D','E','F','G','H'), lambda a,b,c,d,e,f,g,h: \n",
    "                          number_of_presenters(a,b,c,d,e,f,g,h,'CSP')==0 \n",
    "                            or number_of_presenters(a,b,c,d,e,f,g,h,'CSP')<=2)\n",
    "constraint3_SP = Constraint(('A','B','C','D','E','F','G','H'), lambda a,b,c,d,e,f,g,h:\n",
    "                            number_of_presenters(a,b,c,d,e,f,g,h,'Logic')==0\n",
    "                            or (number_of_presenters(a,b,c,d,e,f,g,h,'Logic')>=1 \n",
    "                            and number_of_presenters(a,b,c,d,e,f,g,h,'Logic')<=2))\n",
    "constraint4_SP = Constraint(('A','B','C','D','E','F','G','H'), lambda a,b,c,d,e,f,g,h:\n",
    "                            (number_of_presenters(a,b,c,d,e,f,g,h,'HMM')>=2 \n",
    "                            and number_of_presenters(a,b,c,d,e,f,g,h,'HMM')<=3)\n",
    "                            or number_of_presenters(a,b,c,d,e,f,g,h,'HMM')==0)\n",
    "constraint5_SP = Constraint(('A','B','C','D','E','F','G','H'), lambda a,b,c,d,e,f,g,h: ((a==b or a==c \n",
    "                            or a==d or a==f or a==g or a==h) and a!=e and a!='None') or a=='None')\n",
    "constraint6_SP = Constraint(('A','B'), lambda a,b: a!='CSP' and b!='CSP')\n",
    "constraint7_SP = Constraint(('C','D'), lambda c,d: c==d and c!='None' and d!='None')\n",
    "constraint8_SP = Constraint(('E','F','G'), lambda e,f,g: (e!=f and f!=g and e!=g)\n",
    "                            or (e=='None' and f=='None' and g=='None'))\n",
    "constraint9_SP = Constraint(('G','H'), lambda g,h: g=='CR' and h=='CR')\n",
    "constraint10_SP = Constraint(('C','H'), lambda c,h: c==h and c!='None' and h!='None')\n",
    "constraint11_SP = Constraint(('B','D','E'), lambda b,d,e: b==d and d==e and b!='None')\n",
    "constraint12_SP = Constraint(('A','F'), lambda a,f: a==f)\n",
    "constraint13_SP = Constraint(('B'), lambda b: b=='Logic')\n",
    "constraint14_SP = Constraint(('A','B','C','D','E','F','G','H'), lambda a,b,c,d,e,f,g,h: \n",
    "                             (number_of_presenters(a,b,c,d,e,f,g,h,'CR')*15 \n",
    "                             + number_of_presenters(a,b,c,d,e,f,g,h,'CSP')*8 \n",
    "                             + number_of_presenters(a,b,c,d,e,f,g,h,'Logic')*12 \n",
    "                             + number_of_presenters(a,b,c,d,e,f,g,h,'HMM')*10) <=90)\n",
    "constraint15_SP = Constraint(('A','B','C','D','E','F','G','H'), lambda a,b,c,d,e,f,g,h: \n",
    "                            number_of_presenters(a,b,c,d,e,f,g,h,'CR')!=1\n",
    "                            and number_of_presenters(a,b,c,d,e,f,g,h,'CSP')!=1\n",
    "                            and number_of_presenters(a,b,c,d,e,f,g,h,'Logic')!=1\n",
    "                            and number_of_presenters(a,b,c,d,e,f,g,h,'HMM')!=1)\n",
    "constraint16_SP = Constraint(('A','B','C','D','E','F','G','H'), lambda a,b,c,d,e,f,g,h:\n",
    "                             (number_of_presenters(a,b,c,d,e,f,g,h,'CR')!=0 \n",
    "                                 and number_of_presenters(a,b,c,d,e,f,g,h,'CSP')!=0\n",
    "                                 and number_of_presenters(a,b,c,d,e,f,g,h,'Logic')!=0)\n",
    "                             or (number_of_presenters(a,b,c,d,e,f,g,h,'CSP')!=0\n",
    "                                 and number_of_presenters(a,b,c,d,e,f,g,h,'Logic')!=0\n",
    "                                 and number_of_presenters(a,b,c,d,e,f,g,h,'HMM')!=0)\n",
    "                             or (number_of_presenters(a,b,c,d,e,f,g,h,'HMM')!=0\n",
    "                                and number_of_presenters(a,b,c,d,e,f,g,h,'Logic')!=0\n",
    "                                and number_of_presenters(a,b,c,d,e,f,g,h,'CR')!=0)\n",
    "                             or (number_of_presenters(a,b,c,d,e,f,g,h,'CSP')!=0\n",
    "                                and number_of_presenters(a,b,c,d,e,f,g,h,'CR')!=0\n",
    "                                and number_of_presenters(a,b,c,d,e,f,g,h,'HMM')!=0))\n",
    "constraint17_SP = Constraint(('A','B','C','D','E','F','G','H'), lambda a,b,c,d,e,f,g,h:\n",
    "                             number_of_presenters(a,b,c,d,e,f,g,h,'CR')>0\n",
    "                             and number_of_presenters(a,b,c,d,e,f,g,h,'CSP')>0\n",
    "                             and number_of_presenters(a,b,c,d,e,f,g,h,'Logic')>0\n",
    "                             and number_of_presenters(a,b,c,d,e,f,g,h,'HMM')>0)\n"
   ]
  },
  {
   "cell_type": "markdown",
   "metadata": {},
   "source": [
    "### Combine the constraints and set up the CSPs for the different problems"
   ]
  },
  {
   "cell_type": "code",
   "execution_count": 4,
   "metadata": {},
   "outputs": [],
   "source": [
    "# Construct the Student Presentation Problems\n",
    "\n",
    "# Combine Constraints and set up the csp for Problem 2.1\n",
    "csp_1_constraints = [constraint1_SP,constraint2_SP,constraint3_SP,constraint4_SP,constraint5_SP,constraint6_SP,\n",
    "                     constraint7_SP,constraint8_SP,constraint9_SP,constraint10_SP,constraint13_SP,constraint16_SP]\n",
    "csp_1 = NaryCSP(domains_SP, csp_1_constraints)\n",
    "\n",
    "\n",
    "\n",
    "# Combine Constraints and set up the csp for Problem 2.2\n",
    "csp_2_constraints = [constraint1_SP,constraint2_SP,constraint3_SP,constraint4_SP,constraint5_SP,constraint7_SP,\n",
    "                     constraint8_SP,constraint9_SP,constraint10_SP,constraint17_SP]\n",
    "csp_2 = NaryCSP(domains_SP, csp_2_constraints)\n",
    "\n",
    "\n",
    "# # Combine Constraints and set up the csp for Problem 2.3\n",
    "csp_3_constraints = [constraint1_SP,constraint2_SP,constraint3_SP,constraint4_SP,constraint5_SP,constraint9_SP,\n",
    "                    constraint11_SP,constraint15_SP,constraint16_SP]\n",
    "csp_3 = NaryCSP(domains_SP, csp_3_constraints)\n",
    "\n",
    "\n",
    "\n",
    "# # Combine Constraints and set up the csp for Problem 2.4\n",
    "csp_4_constraints = [constraint1_SP,constraint2_SP,constraint3_SP,constraint4_SP,constraint6_SP,constraint7_SP,\n",
    "                     constraint8_SP,constraint9_SP,constraint10_SP,constraint12_SP,constraint16_SP]\n",
    "csp_4 = NaryCSP(domains_SP, csp_4_constraints)\n",
    "\n",
    "\n",
    "\n",
    "# # Combine Constraints and set up the csp for Problem 2.5\n",
    "csp_5_constraints = [constraint1_SP,constraint2_SP,constraint3_SP,constraint4_SP,constraint9_SP,constraint14_SP,\n",
    "                    constraint15_SP,constraint16_SP,constraint17_SP]\n",
    "csp_5 = NaryCSP(domains_SP, csp_5_constraints)\n",
    "\n",
    "\n"
   ]
  },
  {
   "cell_type": "markdown",
   "metadata": {},
   "source": [
    "### Solving the CSP"
   ]
  },
  {
   "cell_type": "code",
   "execution_count": 5,
   "metadata": {},
   "outputs": [
    {
     "name": "stdout",
     "output_type": "stream",
     "text": [
      "{'A': 'None', 'B': 'Logic', 'C': 'CR', 'D': 'CR', 'E': 'None', 'F': 'CSP', 'G': 'CR', 'H': 'CR'}\n",
      "{'A': 'HMM', 'B': 'HMM', 'C': 'CR', 'D': 'CR', 'E': 'CSP', 'F': 'Logic', 'G': 'CR', 'H': 'CR'}\n",
      "{'A': 'CSP', 'B': 'HMM', 'C': 'CR', 'D': 'HMM', 'E': 'HMM', 'F': 'CSP', 'G': 'CR', 'H': 'CR'}\n",
      "{'A': 'None', 'B': 'Logic', 'C': 'CR', 'D': 'CR', 'E': 'CSP', 'F': 'None', 'G': 'CR', 'H': 'CR'}\n",
      "None\n"
     ]
    }
   ],
   "source": [
    "# Do not change this part\n",
    "print(ac_search_solver(csp_1))\n",
    "print(ac_search_solver(csp_2))\n",
    "print(ac_search_solver(csp_3))\n",
    "print(ac_search_solver(csp_4))\n",
    "print(ac_search_solver(csp_5))"
   ]
  }
 ],
 "metadata": {
  "celltoolbar": "Raw Cell Format",
  "kernelspec": {
   "display_name": "Python 3 (ipykernel)",
   "language": "python",
   "name": "python3"
  },
  "language_info": {
   "codemirror_mode": {
    "name": "ipython",
    "version": 3
   },
   "file_extension": ".py",
   "mimetype": "text/x-python",
   "name": "python",
   "nbconvert_exporter": "python",
   "pygments_lexer": "ipython3",
   "version": "3.6.13"
  }
 },
 "nbformat": 4,
 "nbformat_minor": 2
}
